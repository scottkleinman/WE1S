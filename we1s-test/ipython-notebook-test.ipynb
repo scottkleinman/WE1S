{
 "cells": [
  {
   "cell_type": "markdown",
   "metadata": {},
   "source": [
    "## Introduction\n",
    "In this test, we'll repeat the previous one by working directly from this pre-written jupyter notebook. Start by configuring the file paths in the cell below. Make sure that you are using the appropriate file path for you system. If you have Mac, remove the `#` from the beginning of the second `input_path` and `output_path` lines and type it at the beginning of the first `input_path` and `output_path` lines, which contain `C:\\\\`. When you are finished, type `Shift+Enter`. If nothing happens, your configuration was successful. If you get an error, go back and check your file paths."
   ]
  },
  {
   "cell_type": "code",
   "execution_count": null,
   "metadata": {
    "collapsed": true
   },
   "outputs": [],
   "source": [
    "##### Configuration #####\n",
    "\n",
    "# Configure the filename\n",
    "filename = \"file.txt\"\n",
    "\n",
    "# Configure the path to input directory\n",
    "input_path = \"C:\\Users\\USERNAME\\Desktop\\we1s-test\\input\"\n",
    "# input_path = \"/Users/USERNAME/Desktop/we1s-test/input\"\n",
    "\n",
    "# Configure the path to output directory\n",
    "output_path = \"C:\\Users\\USERNAME\\Desktop\\we1s-test\\output\"\n",
    "# output_path = \"/Users/USERNAME/Desktop/we1s-test/output\"\n",
    "\n",
    "##### End of Configuration #####"
   ]
  },
  {
   "cell_type": "markdown",
   "metadata": {},
   "source": [
    "Now you are ready to run the main part of the code. Click on the cell below and then type `Shift+Enter`. If you do not get an error, you should receive a message indicating that a new file has been written to your output folder."
   ]
  },
  {
   "cell_type": "code",
   "execution_count": null,
   "metadata": {
    "collapsed": true
   },
   "outputs": [],
   "source": [
    "# Import the os package to manage file paths\n",
    "import os\n",
    "\n",
    "# Create input and out file paths\n",
    "input_file = os.path.join(input_path, filename)\n",
    "output_file = os.path.join(output_path, filename)\n",
    "\n",
    "# Open the input file and read it\n",
    "f = open(input_file)\n",
    "text = f.read()\n",
    "f.close()\n",
    "print(\"The input file says: \" + text)\n",
    "\n",
    "# Convert the text to lower case\n",
    "text = text.lower()\n",
    "\n",
    "# Open the output file for writing and save the new text to it\n",
    "output_file = os.path.join(output_path, \"file2.txt\")\n",
    "f = open(output_file, \"w\")\n",
    "f.write(text)\n",
    "f.close()\n",
    "print(\"I've just written a new file called 'file2.txt' to your output folder. Check it out!\")"
   ]
  },
  {
   "cell_type": "markdown",
   "metadata": {},
   "source": [
    "If you did not receive an error, you have successfully run the jupyter notebook test. You can now exit from jupyter notebooks. To do this, close the jupyter notebooks windows and return to the command or terminal prompt. Type `Control/Command+c` to interrupt the Python process. You may have to do this several times. Once the process is interrupted, you can type `exit` followed by `enter` to exit from the command prompt or terminal."
   ]
  }
 ],
 "metadata": {
  "kernelspec": {
   "display_name": "Python 2",
   "language": "python",
   "name": "python2"
  },
  "language_info": {
   "codemirror_mode": {
    "name": "ipython",
    "version": 2
   },
   "file_extension": ".py",
   "mimetype": "text/x-python",
   "name": "python",
   "nbconvert_exporter": "python",
   "pygments_lexer": "ipython2",
   "version": "2.7.10"
  }
 },
 "nbformat": 4,
 "nbformat_minor": 0
}
